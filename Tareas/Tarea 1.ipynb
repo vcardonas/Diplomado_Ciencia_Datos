{
 "cells": [
  {
   "cell_type": "markdown",
   "id": "fa6f924f-29a9-45f2-aabf-95e0bb6c8a7c",
   "metadata": {},
   "source": [
    "[![Open In Colab](https://colab.research.google.com/assets/colab-badge.svg)](https://colab.research.google.com/github/vcardonas/Diplomado_Ciencia_Datos/blob/main/Tareas/Tarea%201.ipynb?authuser=1&hl=es#scrollTo=5eHzwSf-Exbq)"
   ]
  },
  {
   "cell_type": "markdown",
   "id": "124404eb-ae31-464f-a655-32c6c782a7a1",
   "metadata": {},
   "source": [
    "<figure>\n",
    "<img src = \"../Tareas/Recursos/web scraping icon.png\"  width=\"80\" height=\"80\" align=\"left\"/> \n",
    "</figure>\n",
    "\n",
    "# <span style=\"color:black\"><left> Tarea 1: Web Scraping por Valentina Cardona </left></span>"
   ]
  },
  {
   "cell_type": "markdown",
   "id": "fc1701a6-16ad-4693-aa67-90da712d8cbe",
   "metadata": {},
   "source": [
    "# <span style=\"color:green\"><center>Web Scraping</center></span>"
   ]
  },
  {
   "cell_type": "markdown",
   "id": "ca3d6773-9ffc-4200-a118-1860cd716f35",
   "metadata": {},
   "source": [
    "##   <span style=\"color:blue\">Autora</span>"
   ]
  },
  {
   "cell_type": "markdown",
   "id": "495e894c-0943-4a2f-90b0-be4dab5e2cbb",
   "metadata": {},
   "source": [
    "Valentina Cardona Saldaña, vcardonas@unal.edu.co"
   ]
  },
  {
   "cell_type": "markdown",
   "id": "2a29956e-a5b5-48d2-b49e-4e6479ff8d96",
   "metadata": {},
   "source": [
    "## <span style=\"color:blue\">Contenido</span>"
   ]
  },
  {
   "cell_type": "markdown",
   "id": "5ecbab32-2566-41f2-9dc8-56d3e50b0b25",
   "metadata": {},
   "source": [
    "1. [Presentación de la autora](#Presentación-de-la-autora)\n",
    "1. [Presentación del concepto](#Presentación-del-concepto)\n",
    "1. [Ejemplo del concepto](#Ejemplo-del-concepto)\n",
    "1. [Referencias](#Referencias)"
   ]
  },
  {
   "cell_type": "markdown",
   "id": "022ba32d-87e7-488e-b07d-549afd857350",
   "metadata": {},
   "source": [
    "## <span style=\"color:blue\">Presentación de la autora</span>"
   ]
  },
  {
   "cell_type": "markdown",
   "id": "301ea90f-c2b0-4265-ba10-9a5cfb950a8d",
   "metadata": {},
   "source": [
    "<center>\n",
    "    <figure>\n",
    "    <img src=\"../Tareas/Recursos/Foto.jpg\"  width=\"600\" height=\"300\"/> \n",
    "    <figcaption>\n",
    "    <p style=\"text-align:center\"><strong>Valentina Cardona Saldaña</strong></p>\n",
    "    </figcaption>\n",
    "    </figure>\n",
    "</center>"
   ]
  },
  {
   "cell_type": "markdown",
   "id": "21206ca5-50fd-4792-bfdb-3d25c8a81e9e",
   "metadata": {},
   "source": [
    "<center>\n",
    "    Oriunda de La Dorada, Caldas. Estudiante de décimo semestre de Psicología, en la Universidad Nacional de Colombia.\n",
    "    Caracterizada por un gran compromiso por aprender, aptitudes para trabajar en equipo y altas capacidades en el manejo de información numérica.\n",
    "</center>"
   ]
  },
  {
   "cell_type": "markdown",
   "id": "35b52fb6-3300-48b9-91b5-aaf026f89ed2",
   "metadata": {},
   "source": [
    "## <span style=\"color:blue\">Presentación del concepto</span>"
   ]
  },
  {
   "cell_type": "markdown",
   "id": "5258f69e-a623-46a4-b4c2-7030173bdfca",
   "metadata": {},
   "source": [
    "Aunque web scraping no es un término nuevo, en años pasados la práctica se conocía más comúnmente como screen scraping, data mining, web harvesting o variaciones similares. El consenso general hoy en día parece favorecer el web scraping, así que ese es el término que utilizo.\n",
    "En teoría, el raspado web es la práctica de recopilar datos a través de cualquier otro medio que no sea un programa que interactúa con una API (o, obviamente, a través de un humano que usa un navegador web). \n",
    "\n",
    "Esto se logra más comúnmente escribiendo un programa automatizado que consulta un servidor web, solicita datos (generalmente en forma de HTML y otros archivos que componen las páginas web) y luego analiza esos datos para extraer la información necesaria. En la práctica, el web scraping abarca una amplia variedad de técnicas y tecnologías de programación, como el análisis de datos, el análisis del lenguaje natural y la seguridad de la información."
   ]
  },
  {
   "cell_type": "markdown",
   "id": "c09140a8-9bd0-4b9b-9060-1d7e0130db24",
   "metadata": {},
   "source": [
    "## <span style=\"color:blue\">Ejemplo del concepto</span>"
   ]
  },
  {
   "cell_type": "markdown",
   "id": "2fd98018-0956-4f43-868f-907bb31b98a0",
   "metadata": {},
   "source": [
    "### <span style=\"color:blue\">BeautifulSoup</span>\n",
    "\n",
    "La biblioteca BeautifulSoup lleva el nombre de un poema de Lewis Carroll del mismo nombre en Alicia en el país de las maravillas. Al igual que su homónimo de Wonderland, BeautifulSoup intenta dar sentido a lo absurdo; ayuda a formatear y organizar la web desordenada al corregir el HTML incorrecto y presentarnos objetos de Python fácilmente transitables que representan estructuras XML.\n",
    "\n",
    "Las instrucciones completas para instalar BeautifulSoup 4 se pueden encontrar en [Crummy.com](https://www.crummy.com/software/BeautifulSoup/bs4/doc/)"
   ]
  },
  {
   "cell_type": "code",
   "execution_count": 1,
   "id": "a84f7081-4739-4dc0-a45e-d2e4fe4af969",
   "metadata": {},
   "outputs": [],
   "source": [
    "from urllib.request import urlopen\n",
    "from bs4 import BeautifulSoup"
   ]
  },
  {
   "cell_type": "code",
   "execution_count": 2,
   "id": "61eea797-257a-45f6-8b65-843e7c535970",
   "metadata": {},
   "outputs": [
    {
     "name": "stdout",
     "output_type": "stream",
     "text": [
      "b'<html>\\n<head>\\n<title>A Useful Page</title>\\n</head>\\n<body>\\n<h1>An Interesting Title</h1>\\n<div>\\nLorem ipsum dolor sit amet, consectetur adipisicing elit, sed do eiusmod tempor incididunt ut labore et dolore magna aliqua. Ut enim ad minim veniam, quis nostrud exercitation ullamco laboris nisi ut aliquip ex ea commodo consequat. Duis aute irure dolor in reprehenderit in voluptate velit esse cillum dolore eu fugiat nulla pariatur. Excepteur sint occaecat cupidatat non proident, sunt in culpa qui officia deserunt mollit anim id est laborum.\\n</div>\\n</body>\\n</html>\\n'\n"
     ]
    }
   ],
   "source": [
    "html = urlopen('http://pythonscraping.com/pages/page1.html')\n",
    "print(html.read())"
   ]
  },
  {
   "cell_type": "markdown",
   "id": "8fc9cb79-44bb-437a-ab52-ac88055e7356",
   "metadata": {},
   "source": [
    "El objeto más utilizado en la biblioteca BeautifulSoup es, apropiadamente, el objeto BeautifulSoup. Veámoslo en acción, modificando el anterior ejemplo:"
   ]
  },
  {
   "cell_type": "code",
   "execution_count": 3,
   "id": "7e068d52-f5e9-4474-84a6-5fd74f6a204e",
   "metadata": {},
   "outputs": [
    {
     "name": "stdout",
     "output_type": "stream",
     "text": [
      "<h1>An Interesting Title</h1>\n"
     ]
    }
   ],
   "source": [
    "html = urlopen('http://www.pythonscraping.com/pages/page1.html')\n",
    "bs = BeautifulSoup(html.read(), 'html.parser')\n",
    "print(bs.h1)"
   ]
  },
  {
   "cell_type": "markdown",
   "id": "9e3970b6-9c46-4f83-9542-9f6874709a1c",
   "metadata": {},
   "source": [
    "En la anterior línea de código está llamando a **html.read()**, con la función urlopen, para obtener el contenido HTML de la página.\n",
    "Posteriormente, el **h1** devuelve la primera instancia de la etiqueta h1 que se encuentra en la página. Por convención, solo se debe usar una etiqueta h1 en una sola página, pero las convenciones a menudo se rompen en la web, por lo que debe tener en cuenta que esto recuperará solo la primera instancia de la etiqueta, y no necesariamente la que está buscando."
   ]
  },
  {
   "cell_type": "markdown",
   "id": "3737765e-d919-4c3d-8ff0-0afe1042b325",
   "metadata": {},
   "source": [
    "Este contenido HTML luego se transforma en un objeto BeautifulSoup, con la siguiente estructura:\n",
    "```\n",
    "- html → <html><head>...</head><body>...</body></html>\n",
    "    - head → <head><title>A Useful Page<title></head>\n",
    "        - title → <title>A Useful Page</title>\n",
    "    - body → <body><h1>An Int...</h1><div>Lorem ip...</div></body>\n",
    "        - h1 → <h1>An Interesting Title</h1>\n",
    "        - div → <div>Lorem Ipsum dolor...</div>\n",
    "```\n",
    "\n",
    "Tenga en cuenta que la etiqueta h1, que extrae de la página, está anidada por dos capas en la estructura de su objeto BeautifulSoup (html → body → h1). Sin embargo, cuando realmente lo obtiene del objeto, llama directamente a la etiqueta h1:"
   ]
  },
  {
   "cell_type": "code",
   "execution_count": 4,
   "id": "dab7c0de-021f-48b8-83e5-624507686625",
   "metadata": {},
   "outputs": [
    {
     "data": {
      "text/plain": [
       "<h1>An Interesting Title</h1>"
      ]
     },
     "execution_count": 4,
     "metadata": {},
     "output_type": "execute_result"
    }
   ],
   "source": [
    "bs.h1"
   ]
  },
  {
   "cell_type": "markdown",
   "id": "0e558e21-d7e3-4ed2-8d76-5b406c9cd543",
   "metadata": {},
   "source": [
    "De hecho, cualquiera de las siguientes produciría el mismo resultado:"
   ]
  },
  {
   "cell_type": "code",
   "execution_count": 5,
   "id": "a6a19c99-cfb7-48e1-a953-4568d0f57ba8",
   "metadata": {},
   "outputs": [
    {
     "name": "stdout",
     "output_type": "stream",
     "text": [
      "<h1>An Interesting Title</h1>\n",
      "<h1>An Interesting Title</h1>\n",
      "<h1>An Interesting Title</h1>\n"
     ]
    }
   ],
   "source": [
    "print(bs.html.body.h1)\n",
    "print(bs.body.h1)\n",
    "print(bs.html.h1)"
   ]
  },
  {
   "cell_type": "markdown",
   "id": "fdbe4006-cace-40bc-a5e2-236d18078ba4",
   "metadata": {},
   "source": [
    "## <span style=\"color:blue\">Referencias</span>"
   ]
  },
  {
   "cell_type": "markdown",
   "id": "cca4952d-e3c5-4158-9ab4-e69e6926bf42",
   "metadata": {},
   "source": [
    "- [Libro Web Scraping with Python 2nd ed.]()\n",
    "- [Ejemplos de código](https://github.com/REMitchell/python-scraping)"
   ]
  }
 ],
 "metadata": {
  "kernelspec": {
   "display_name": "Python 3 (ipykernel)",
   "language": "python",
   "name": "python3"
  },
  "language_info": {
   "codemirror_mode": {
    "name": "ipython",
    "version": 3
   },
   "file_extension": ".py",
   "mimetype": "text/x-python",
   "name": "python",
   "nbconvert_exporter": "python",
   "pygments_lexer": "ipython3",
   "version": "3.10.6"
  }
 },
 "nbformat": 4,
 "nbformat_minor": 5
}
