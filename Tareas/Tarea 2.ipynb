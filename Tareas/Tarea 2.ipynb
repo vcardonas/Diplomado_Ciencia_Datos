{
 "cells": [
  {
   "cell_type": "markdown",
   "metadata": {},
   "source": [
    "[![Open In Colab](https://colab.research.google.com/assets/colab-badge.svg)](https://colab.research.google.com/github/vcardonas/Diplomado_Ciencia_Datos/blob/main/Tareas/Tarea%202.ipynb)"
   ]
  },
  {
   "cell_type": "markdown",
   "metadata": {},
   "source": [
    "# <span style=\"color:green\"><center> Tarea 2: Funciones por Valentina Cardona </center></span>"
   ]
  },
  {
   "cell_type": "markdown",
   "metadata": {},
   "source": [
    "##   <span style=\"color:blue\">Autora</span>"
   ]
  },
  {
   "cell_type": "markdown",
   "metadata": {},
   "source": [
    "Valentina Cardona Saldaña, vcardonas@unal.edu.co"
   ]
  },
  {
   "cell_type": "markdown",
   "metadata": {},
   "source": [
    "## <span style=\"color:blue\">Contenido</span>"
   ]
  },
  {
   "cell_type": "markdown",
   "metadata": {},
   "source": [
    "1. [Punto 1](#Punto-1)\n",
    "1. [Punto 2](#Punto-2)\n",
    "1. [Punto 3](#Punto-3)\n",
    "1. [Punto 4](#Punto-4)\n",
    "1. [Punto 5.1](#Punto-5.1)\n",
    "1. [Punto 5.2](#Punto-5.2)\n",
    "1. [Punto 6](#Punto-6)\n",
    "1. [Punto 7](#Punto-7)\n",
    "1. [Punto 8](#Punto-8)\n",
    "1. [Punto 9](#Punto-9)\n",
    "1. [Punto 10](#Punto-10)\n",
    "1. [Punto 11](#Punto-11)\n",
    "1. [Punto 12](#Punto-12)"
   ]
  },
  {
   "cell_type": "markdown",
   "metadata": {},
   "source": [
    "##   <span style=\"color:blue\"> Punto 1</span> "
   ]
  },
  {
   "cell_type": "markdown",
   "metadata": {},
   "source": [
    "Escriba una función  que reciba la fecha de nacimiento de un a persona y calcule la edad de la persona"
   ]
  },
  {
   "cell_type": "code",
   "execution_count": 1,
   "metadata": {
    "vscode": {
     "languageId": "python"
    }
   },
   "outputs": [],
   "source": [
    "import datetime\n",
    "import numpy as np"
   ]
  },
  {
   "cell_type": "code",
   "execution_count": 2,
   "metadata": {
    "vscode": {
     "languageId": "python"
    }
   },
   "outputs": [],
   "source": [
    "def edad():\n",
    "    fecha = input(\"Por favor escriba su fecha de nacimiento en el siguiente formato: dd/mm/aaaa: \")\n",
    "\n",
    "    dia, mes, año = fecha.split('/')\n",
    "\n",
    "    if (dia.isalpha() == True) | (mes.isalpha() == True) | (año.isalpha() == True):\n",
    "        print(\"Su fecha debe estar en formato numérico (dd/mm/aaaa)\")\n",
    "        fecha = input(\"Por favor escriba su fecha de nacimiento nuevamente: \")\n",
    "        dia, mes, año = fecha.split('/')\n",
    "    \n",
    "    dia,mes,año = int(dia), int(mes), int(año)\n",
    "\n",
    "    hoy = datetime.date.today()\n",
    "    fecha = datetime.date(año, mes, dia)\n",
    "\n",
    "    edad = ((hoy-fecha).days)/365\n",
    "\n",
    "    print(\"Usted tiene\",round(edad, 2),\"años\")"
   ]
  },
  {
   "cell_type": "code",
   "execution_count": 3,
   "metadata": {
    "vscode": {
     "languageId": "python"
    }
   },
   "outputs": [
    {
     "name": "stdout",
     "output_type": "stream",
     "text": [
      "Usted tiene 22.28 años\n"
     ]
    }
   ],
   "source": [
    "edad()\n"
   ]
  },
  {
   "cell_type": "markdown",
   "metadata": {},
   "source": [
    "##   <span style=\"color:blue\"> Punto 2</span> "
   ]
  },
  {
   "cell_type": "markdown",
   "metadata": {},
   "source": [
    "Crea una función EscribirCentrado, que reciba como parámetro un texto y lo escriba centrado en pantalla (suponiendo una anchura de 80 columnas; pista: deberás escribir 40 - longitud/2 espacios antes del texto)."
   ]
  },
  {
   "cell_type": "code",
   "execution_count": 4,
   "metadata": {
    "vscode": {
     "languageId": "python"
    }
   },
   "outputs": [],
   "source": [
    "from IPython.display import Markdown, display\n",
    "from statistics import mean\n",
    "import random\n"
   ]
  },
  {
   "cell_type": "code",
   "execution_count": 7,
   "metadata": {
    "vscode": {
     "languageId": "python"
    }
   },
   "outputs": [],
   "source": [
    "def EscribirCentrado(texto: str):\n",
    "    lineas = texto.count('\\n') + 1\n",
    "    linea = []\n",
    "    for i in range(lineas):\n",
    "        linea.append(len(texto.splitlines()[i]))\n",
    "    \n",
    "    PP = mean(linea)\n",
    "    longitud  = int(PP*12)\n",
    "\n",
    "    display(\n",
    "        Markdown('<p style=\"line-height:{longitud}\"><center>{texto}</center ></p>'.format(texto=texto, longitud=longitud)))\n"
   ]
  },
  {
   "cell_type": "code",
   "execution_count": 8,
   "metadata": {
    "vscode": {
     "languageId": "python"
    }
   },
   "outputs": [
    {
     "data": {
      "text/markdown": [
       "<p style=\"line-height:160\"><center>Esto es una cadena\n",
       "que ocupa\n",
       "varias líneas</center ></p>"
      ],
      "text/plain": [
       "<IPython.core.display.Markdown object>"
      ]
     },
     "metadata": {},
     "output_type": "display_data"
    }
   ],
   "source": [
    "texto = \"\"\"Esto es una cadena\n",
    "que ocupa\n",
    "varias líneas\"\"\"\n",
    "\n",
    "EscribirCentrado(texto)"
   ]
  },
  {
   "cell_type": "code",
   "execution_count": 9,
   "metadata": {
    "vscode": {
     "languageId": "python"
    }
   },
   "outputs": [
    {
     "data": {
      "text/markdown": [
       "<p style=\"line-height:5340\"><center>Lorem ipsum dolor sit amet, consectetur adipiscing elit, sed do eiusmod tempor incididunt ut labore et dolore magna aliqua. Ut enim ad minim veniam, quis nostrud exercitation ullamco laboris nisi ut aliquip ex ea commodo consequat. Duis aute irure dolor in reprehenderit in voluptate velit esse cillum dolore eu fugiat nulla pariatur. Excepteur sint occaecat cupidatat non proident, sunt in culpa qui officia deserunt mollit anim id est laborum.</center ></p>"
      ],
      "text/plain": [
       "<IPython.core.display.Markdown object>"
      ]
     },
     "metadata": {},
     "output_type": "display_data"
    }
   ],
   "source": [
    "texto = \"\"\"Lorem ipsum dolor sit amet, consectetur adipiscing elit, sed do eiusmod tempor incididunt ut labore et dolore magna aliqua. Ut enim ad minim veniam, quis nostrud exercitation ullamco laboris nisi ut aliquip ex ea commodo consequat. Duis aute irure dolor in reprehenderit in voluptate velit esse cillum dolore eu fugiat nulla pariatur. Excepteur sint occaecat cupidatat non proident, sunt in culpa qui officia deserunt mollit anim id est laborum.\"\"\"\n",
    "\n",
    "EscribirCentrado(texto)\n"
   ]
  },
  {
   "cell_type": "markdown",
   "metadata": {},
   "source": [
    "##   <span style=\"color:blue\"> Punto 3</span> "
   ]
  },
  {
   "cell_type": "markdown",
   "metadata": {},
   "source": [
    "Construya una función decorada que reciba un texto y lo escriba marcado con Markdown en itálica y resaltada (bold). Revise la lección de decoradores, no vista en clase."
   ]
  },
  {
   "cell_type": "code",
   "execution_count": 10,
   "metadata": {
    "vscode": {
     "languageId": "python"
    }
   },
   "outputs": [
    {
     "data": {
      "text/markdown": [
       "<p><b><i>hola mundo</i></b></p>"
      ],
      "text/plain": [
       "<IPython.core.display.Markdown object>"
      ]
     },
     "metadata": {},
     "output_type": "display_data"
    }
   ],
   "source": [
    "#Decoradores\n",
    "def make_italic(fn):\n",
    "    def makeitalic_wrapper():\n",
    "        return \"<i>\" + fn() + \"</i>\"\n",
    "    return makeitalic_wrapper\n",
    "\n",
    "def make_bold(fn):\n",
    "    def makebold_wrapper():\n",
    "        return \"<b>\" + fn() + \"</b>\"\n",
    "    return makebold_wrapper\n",
    "\n",
    "@make_bold\n",
    "@make_italic\n",
    "def hello():\n",
    "    return 'hola mundo'\n",
    "\n",
    "display(Markdown('<p>{fn}</p>'.format(fn=hello())))"
   ]
  },
  {
   "cell_type": "markdown",
   "metadata": {},
   "source": [
    "##   <span style=\"color:blue\"> Punto 4</span> "
   ]
  },
  {
   "cell_type": "markdown",
   "metadata": {},
   "source": [
    "Crea un programa que pida dos número enteros al usuario y diga si alguno de ellos es múltiplo del otro. "
   ]
  },
  {
   "cell_type": "code",
   "execution_count": 11,
   "metadata": {
    "vscode": {
     "languageId": "python"
    }
   },
   "outputs": [],
   "source": [
    "def multiplo(num1:int, num2:int):\n",
    "    if num1 % num2 == 0:\n",
    "        print(str(num1)+' es múltiplo de '+str(num2))\n",
    "    elif num2 % num1 == 0:\n",
    "        print(str(num2)+' es múltiplo de '+str(num1))\n",
    "    else:\n",
    "        print(\"Ninguno de los números ingresados es múltiplo del otro\")\n"
   ]
  },
  {
   "cell_type": "code",
   "execution_count": 12,
   "metadata": {
    "vscode": {
     "languageId": "python"
    }
   },
   "outputs": [
    {
     "name": "stdout",
     "output_type": "stream",
     "text": [
      "25 es múltiplo de 5\n"
     ]
    }
   ],
   "source": [
    "multiplo(5, 25)"
   ]
  },
  {
   "cell_type": "markdown",
   "metadata": {},
   "source": [
    "##   <span style=\"color:blue\"> Punto 5.1</span> "
   ]
  },
  {
   "cell_type": "markdown",
   "metadata": {},
   "source": [
    "Crear una función que reciba una lista de 24 valores de temperatura leída hora en un día y que calcule la temperatura media \n",
    "Cree una lista con 24 valores de temperatura de un día de Bogotá y pruebe su función. Invente los datos."
   ]
  },
  {
   "cell_type": "code",
   "execution_count": 13,
   "metadata": {
    "vscode": {
     "languageId": "python"
    }
   },
   "outputs": [],
   "source": [
    "def temp(lista:list):\n",
    "    if len(lista) == 24:\n",
    "       print('La temperatura media del día fue ' + str(round(mean(lista), 2)))\n",
    "    else:\n",
    "        print('Su lista tiene '+str(len(lista))+'\\nFaltan '+str(24-len(lista))+' valores')"
   ]
  },
  {
   "cell_type": "code",
   "execution_count": 14,
   "metadata": {
    "vscode": {
     "languageId": "python"
    }
   },
   "outputs": [
    {
     "name": "stdout",
     "output_type": "stream",
     "text": [
      "La temperatura media del día fue 13.5\n"
     ]
    }
   ],
   "source": [
    "bogota = [10,9,9,9,9,9,9,11,13,16,18,19,20,19,19,18,17,15,14,14,13,12,11,11]\n",
    "\n",
    "temp(bogota)"
   ]
  },
  {
   "cell_type": "markdown",
   "metadata": {},
   "source": [
    "##   <span style=\"color:blue\"> Punto 5.2</span> "
   ]
  },
  {
   "cell_type": "markdown",
   "metadata": {},
   "source": [
    "Crea un función “ConvertirEspaciado”, que reciba como parámetro un texto y devuelve una cadena con un espacio adicional tras cada letra. Por ejemplo, “Hola, tú” devolverá “H o l a , t ú “.  Pruebe "
   ]
  },
  {
   "cell_type": "code",
   "execution_count": 15,
   "metadata": {
    "vscode": {
     "languageId": "python"
    }
   },
   "outputs": [],
   "source": [
    "def ConvertirEspaciado(texto:str):\n",
    "    for i in range(len(texto)):\n",
    "        print(texto[i], end = ' ')"
   ]
  },
  {
   "cell_type": "code",
   "execution_count": 16,
   "metadata": {
    "vscode": {
     "languageId": "python"
    }
   },
   "outputs": [
    {
     "name": "stdout",
     "output_type": "stream",
     "text": [
      "H o l a   t ú "
     ]
    }
   ],
   "source": [
    "texto = 'Hola tú'\n",
    "\n",
    "ConvertirEspaciado(texto)"
   ]
  },
  {
   "cell_type": "markdown",
   "metadata": {},
   "source": [
    "##   <span style=\"color:blue\"> Punto 6</span> "
   ]
  },
  {
   "cell_type": "markdown",
   "metadata": {},
   "source": [
    "Crea una función “calcularMaxMin” que recibe una arreglo con valores numérico y devuelve el valor máximo y el mínimo. "
   ]
  },
  {
   "cell_type": "code",
   "execution_count": 17,
   "metadata": {
    "vscode": {
     "languageId": "python"
    }
   },
   "outputs": [],
   "source": [
    "def calcularMaxMin(arreglo):\n",
    "    \n",
    "    def is_numpy_numeric(x):\n",
    "        try:\n",
    "            np.array(x, dtype='float64')\n",
    "        except ValueError:\n",
    "            return False\n",
    "        else:\n",
    "            return True\n",
    "\n",
    "    if is_numpy_numeric(arreglo) == False:\n",
    "        print('Su arreglo no es numérico')\n",
    "    elif (is_numpy_numeric(arreglo) == True) & (type(arreglo) == list):\n",
    "        arreglo = np.array(arreglo, dtype='float64')\n",
    "        max = arreglo.max()\n",
    "        min = arreglo.min()\n",
    "        print('El mínimo es {min} y el máximo es {max}'.format(min = min, max = max))\n",
    "    else:\n",
    "        max = arreglo.max()\n",
    "        min = arreglo.min()\n",
    "        print('El mínimo es {min} y el máximo es {max}'.format(min = min, max = max))\n",
    "    "
   ]
  },
  {
   "cell_type": "code",
   "execution_count": 18,
   "metadata": {
    "vscode": {
     "languageId": "python"
    }
   },
   "outputs": [
    {
     "name": "stdout",
     "output_type": "stream",
     "text": [
      "El mínimo es 1.0 y el máximo es 623.0\n"
     ]
    }
   ],
   "source": [
    "arreglo = [6,1,2,4,623,8]\n",
    "calcularMaxMin(arreglo)"
   ]
  },
  {
   "cell_type": "markdown",
   "metadata": {},
   "source": [
    "##   <span style=\"color:blue\"> Punto 7</span> "
   ]
  },
  {
   "cell_type": "markdown",
   "metadata": {},
   "source": [
    "Diseñar una función que calcule el área y el perímetro de una circunferencia. "
   ]
  },
  {
   "cell_type": "code",
   "execution_count": 19,
   "metadata": {
    "vscode": {
     "languageId": "python"
    }
   },
   "outputs": [],
   "source": [
    "import math\n"
   ]
  },
  {
   "cell_type": "code",
   "execution_count": 20,
   "metadata": {
    "vscode": {
     "languageId": "python"
    }
   },
   "outputs": [],
   "source": [
    "def Area_Perimeter():\n",
    "    R = int(input(\"Introduzca el radio de la circunferencia: \"))\n",
    "    PI = math.pi\n",
    "    A = round(PI * R * R, 2)\n",
    "    Pe = round(2 * PI * R, 2)\n",
    "    print('Para un radio de {R}, el área calculada es {A} y el perímetro es {Pe}'.format(R = R, A = A, Pe = Pe))"
   ]
  },
  {
   "cell_type": "code",
   "execution_count": 21,
   "metadata": {
    "vscode": {
     "languageId": "python"
    }
   },
   "outputs": [
    {
     "name": "stdout",
     "output_type": "stream",
     "text": [
      "Para un radio de 5, el área calculada es 78.54 y el perímetro es 31.42\n"
     ]
    }
   ],
   "source": [
    "Area_Perimeter()"
   ]
  },
  {
   "cell_type": "markdown",
   "metadata": {},
   "source": [
    "##   <span style=\"color:blue\"> Punto 8</span> "
   ]
  },
  {
   "cell_type": "markdown",
   "metadata": {},
   "source": [
    "Crear una función  llamada “Login”, que recibe un nombre de usuario y una contraseña y devuelva Verdadero si el nombre de usuario es “usuario1” y la contraseña es “asdasd”. Además recibe el número de intentos que se ha intentado hacer login y si no se ha podido hacer login incremente este valor."
   ]
  },
  {
   "cell_type": "code",
   "execution_count": 22,
   "metadata": {
    "vscode": {
     "languageId": "python"
    }
   },
   "outputs": [],
   "source": [
    "def Login():\n",
    "    usuario = str(input(\"Introduzca su nombre de usuario: \"))\n",
    "    contraseña = str(input(\"Introduzca contraseña: \"))\n",
    "    \n",
    "    intentos = 0\n",
    "    \n",
    "    while (usuario != \"usuario1\") | (contraseña != \"asdasd\"):\n",
    "        intentos += 1\n",
    "        print('Usuario o contraseña incorrecta, intento '+ str(intentos))\n",
    "        \n",
    "        usuario = str(input(\"Introduzca su nombre de usuario: \"))\n",
    "        contraseña = str(input(\"Introduzca contraseña: \"))\n",
    "    \n",
    "    print('Verdadero')"
   ]
  },
  {
   "cell_type": "code",
   "execution_count": 23,
   "metadata": {
    "vscode": {
     "languageId": "python"
    }
   },
   "outputs": [
    {
     "name": "stdout",
     "output_type": "stream",
     "text": [
      "Usuario o contraseña incorrecta, intento 1\n",
      "Usuario o contraseña incorrecta, intento 2\n",
      "Verdadero\n"
     ]
    }
   ],
   "source": [
    "Login()"
   ]
  },
  {
   "cell_type": "markdown",
   "metadata": {},
   "source": [
    "##   <span style=\"color:blue\"> Punto 9</span> "
   ]
  },
  {
   "cell_type": "markdown",
   "metadata": {},
   "source": [
    "Crear una función recursiva que permita calcular el factorial de un número. Realiza un programa principal donde se lea un entero y se muestre el resultado del factorial. Revise la lección de funciones."
   ]
  },
  {
   "cell_type": "code",
   "execution_count": 24,
   "metadata": {
    "vscode": {
     "languageId": "python"
    }
   },
   "outputs": [],
   "source": [
    "def factorial_recursive(n):\n",
    "    \n",
    "    # Caso base\n",
    "    if n == 1 or n == 0:\n",
    "        return 1\n",
    "    \n",
    "    return n * factorial_recursive(n-1)"
   ]
  },
  {
   "cell_type": "code",
   "execution_count": 25,
   "metadata": {
    "vscode": {
     "languageId": "python"
    }
   },
   "outputs": [
    {
     "name": "stdout",
     "output_type": "stream",
     "text": [
      "120\n"
     ]
    }
   ],
   "source": [
    "print(factorial_recursive(5))"
   ]
  },
  {
   "cell_type": "markdown",
   "metadata": {},
   "source": [
    "##   <span style=\"color:blue\"> Punto 10</span> "
   ]
  },
  {
   "cell_type": "markdown",
   "metadata": {},
   "source": [
    "Escribir dos funciones que permitan calcular:\n",
    "- La cantidad de segundos en un tiempo dado en horas, minutos y segundos.\n",
    "- La cantidad de horas, minutos y segundos de un tiempo dado en segundos"
   ]
  },
  {
   "cell_type": "code",
   "execution_count": 26,
   "metadata": {
    "vscode": {
     "languageId": "python"
    }
   },
   "outputs": [],
   "source": [
    "def seg():\n",
    "    tiempo = input(\"Por favor escriba un tiempo en el siguiente formato: hh:mm:ss \")\n",
    "\n",
    "    hora, min, segu = tiempo.split(':')\n",
    "\n",
    "    if (hora.isalpha() == True) | (min.isalpha() == True) | (segu.isalpha() == True):\n",
    "        print(\"Su tiempo debe estar en formato numérico (hh:mm:ss)\")\n",
    "        tiempo = input(\"Por favor escriba el tiempo nuevamente: \")\n",
    "        hora, min, segu = tiempo.split(':')\n",
    "\n",
    "    hora, min, segu = int(hora), int(min), int(segu)\n",
    "\n",
    "    segundos = 0\n",
    "    segundos += hora * 3600\n",
    "    segundos += min * 60\n",
    "    segundos += segu\n",
    "\n",
    "    print(tiempo)\n",
    "    print(round(segundos, 2), \"segundos\")\n",
    "\n",
    "def tiempo():\n",
    "    seg = float(input(\"Introduca los segundos a convertir: \"))\n",
    "    \n",
    "    print(seg, \"segundos\")\n",
    "    print(str(datetime.timedelta(seconds = seg)))\n"
   ]
  },
  {
   "cell_type": "code",
   "execution_count": 27,
   "metadata": {
    "vscode": {
     "languageId": "python"
    }
   },
   "outputs": [
    {
     "name": "stdout",
     "output_type": "stream",
     "text": [
      "Su tiempo debe estar en formato numérico (hh:mm:ss)\n",
      "12:34:56\n",
      "45296 segundos\n"
     ]
    }
   ],
   "source": [
    "seg()"
   ]
  },
  {
   "cell_type": "code",
   "execution_count": 28,
   "metadata": {
    "vscode": {
     "languageId": "python"
    }
   },
   "outputs": [
    {
     "name": "stdout",
     "output_type": "stream",
     "text": [
      "3453456.0 segundos\n",
      "39 days, 23:17:36\n"
     ]
    }
   ],
   "source": [
    "tiempo()"
   ]
  },
  {
   "cell_type": "markdown",
   "metadata": {},
   "source": [
    "##   <span style=\"color:blue\"> Punto 11</span> "
   ]
  },
  {
   "cell_type": "markdown",
   "metadata": {},
   "source": [
    "Crea una función  que lea una tupla, invierta los valores de la tupla y regrese una nueva tupla invirtiendo los valores. Recuerde que las tuplas son inmutables."
   ]
  },
  {
   "cell_type": "code",
   "execution_count": 29,
   "metadata": {
    "vscode": {
     "languageId": "python"
    }
   },
   "outputs": [],
   "source": [
    "def invertTuple(tupla):\n",
    "    lista = list(tupla)\n",
    "    lista.reverse()\n",
    "    return tuple(lista)"
   ]
  },
  {
   "cell_type": "code",
   "execution_count": 30,
   "metadata": {
    "vscode": {
     "languageId": "python"
    }
   },
   "outputs": [
    {
     "data": {
      "text/plain": [
       "(7, 5, 3, 1)"
      ]
     },
     "execution_count": 30,
     "metadata": {},
     "output_type": "execute_result"
    }
   ],
   "source": [
    "Tupla = (1,3,5,7)\n",
    "\n",
    "invertTuple(Tupla)"
   ]
  },
  {
   "cell_type": "markdown",
   "metadata": {},
   "source": [
    "##   <span style=\"color:blue\"> Punto 12</span> "
   ]
  },
  {
   "cell_type": "markdown",
   "metadata": {},
   "source": [
    "Escriba una función que lea una lista y calcule la media geométrica de sus valores, usando funtools.reduce."
   ]
  },
  {
   "cell_type": "code",
   "execution_count": 31,
   "metadata": {
    "vscode": {
     "languageId": "python"
    }
   },
   "outputs": [],
   "source": [
    "from functools import reduce\n"
   ]
  },
  {
   "cell_type": "code",
   "execution_count": 32,
   "metadata": {
    "vscode": {
     "languageId": "python"
    }
   },
   "outputs": [],
   "source": [
    "def m_arit(lista: list):\n",
    "    sum = reduce(lambda a,b: a+b, lista)\n",
    "    print(round(sum/len(lista), 2))\n"
   ]
  },
  {
   "cell_type": "code",
   "execution_count": 33,
   "metadata": {
    "vscode": {
     "languageId": "python"
    }
   },
   "outputs": [
    {
     "name": "stdout",
     "output_type": "stream",
     "text": [
      "8.0\n"
     ]
    }
   ],
   "source": [
    "lista = [1,2,3,4,5,6,7,8,9,10,11,12,13,14,15]\n",
    "\n",
    "m_arit(lista)"
   ]
  }
 ],
 "metadata": {
  "kernelspec": {
   "display_name": "Python 3 (ipykernel)",
   "language": "python",
   "name": "python3"
  },
  "orig_nbformat": 4,
  "vscode": {
   "interpreter": {
    "hash": "aee8b7b246df8f9039afb4144a1f6fd8d2ca17a180786b69acc140d282b71a49"
   }
  }
 },
 "nbformat": 4,
 "nbformat_minor": 2
}
